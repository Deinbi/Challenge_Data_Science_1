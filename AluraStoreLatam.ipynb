{
  "cells": [
    {
      "cell_type": "markdown",
      "metadata": {
        "id": "view-in-github",
        "colab_type": "text"
      },
      "source": [
        "<a href=\"https://colab.research.google.com/github/Deinbi/Challenge_Data_Science_1/blob/main/AluraStoreLatam.ipynb\" target=\"_parent\"><img src=\"https://colab.research.google.com/assets/colab-badge.svg\" alt=\"Open In Colab\"/></a>"
      ]
    },
    {
      "cell_type": "markdown",
      "source": [
        "##Conclusión\n",
        "El Sr. Juan debería vender la tienda 4 y enfocarse en fortalecer las otras tres tiendas, que tienen un mejor balance entre precio, satisfacción y rentabilidad.\n",
        "\n",
        "\n",
        "## Justificación:\n",
        "Es la tienda con menor ingreso total y por artículo. Tiene la ganancia neta más baja, incluso considerando su bajo costo de envío. Aunque su satisfacción es razonable, no destaca frente a sus competidoras directas. Sus productos más vendidos no compensan en volumen el bajo precio medio. Las visualizaciones apoyan consistentemente su bajo desempeño general.\n",
        "\n",
        "##Analisis:\n",
        "1. Ingresos Totales y Facturación Promedio\n",
        "\n",
        "Tienda 4 es la que menos factura, tanto en total como por artículo, lo que indica un enfoque hacia productos más baratos o márgenes más bajos.\n",
        "\n",
        "2. Rentabilidad Neta Estimada\n",
        "\n",
        "Se consideró la ganancia neta como la diferencia entre el total facturado y el costo total de envío:\n",
        "\n",
        "Tienda 4 nuevamente se posiciona como la menos rentable.\n",
        "\n",
        "3. Categorías de Productos Más Vendidas\n",
        "\n",
        "Todas las tiendas muestran un patrón claro: los Muebles y Electrónicos lideran las ventas. Sin embargo, Tienda 4 presenta menos equilibrio, con categorías como Libros e Instrumentos Musicales con desempeño relativamente más bajo.\n",
        "\n",
        "4. Productos Más y Menos Vendidos\n",
        "\n",
        "Aunque Tienda 4 logra un “top producto” (Cama box) en línea con su enfoque de muebles, su producto menos vendido está en una categoría de valor (Guitarra eléctrica), lo que podría reflejar problemas de segmentación o enfoque del catálogo.\n",
        "\n",
        "5. Calificaciones Promedio\n",
        "\n",
        "Aunque Tienda 4 tiene una satisfacción aceptable, Tienda 3 lidera en experiencia del cliente.\n",
        "\n",
        "6. Costo Promedio de Envío\n",
        "\n",
        "Tienda 4 tiene el envío más barato, lo cual es una fortaleza, pero no compensa su baja rentabilidad y venta promedio bajo.\n",
        "\n",
        "## Visualizaciones Generadas:\n",
        "\n",
        "Barra de facturación promedio por artículo → Tienda 4 al final.\n",
        "\n",
        "Ganancia neta estimada → Tienda 4 nuevamente última.\n",
        "\n",
        "Gráfico de dispersión entre calificación vs. costo de envío → Tienda 4 destaca en envío pero no en satisfacción."
      ],
      "metadata": {
        "id": "treY4Y0ADXVU"
      }
    },
    {
      "cell_type": "markdown",
      "metadata": {
        "id": "RhEdWd9YUR6H"
      },
      "source": [
        "### Importación de datos\n",
        "\n"
      ]
    },
    {
      "cell_type": "code",
      "execution_count": null,
      "metadata": {
        "id": "T3EvaeQ_INIL"
      },
      "outputs": [],
      "source": [
        "import pandas as pd\n",
        "import matplotlib.pyplot as plt\n",
        "\n",
        "url = \"https://raw.githubusercontent.com/alura-es-cursos/challenge1-data-science-latam/refs/heads/main/base-de-datos-challenge1-latam/tienda_1%20.csv\"\n",
        "url2 = \"https://raw.githubusercontent.com/alura-es-cursos/challenge1-data-science-latam/refs/heads/main/base-de-datos-challenge1-latam/tienda_2.csv\"\n",
        "url3 = \"https://raw.githubusercontent.com/alura-es-cursos/challenge1-data-science-latam/refs/heads/main/base-de-datos-challenge1-latam/tienda_3.csv\"\n",
        "url4 = \"https://raw.githubusercontent.com/alura-es-cursos/challenge1-data-science-latam/refs/heads/main/base-de-datos-challenge1-latam/tienda_4.csv\"\n",
        "\n",
        "\n",
        "tienda1 = pd.read_csv(url)\n",
        "tienda2 = pd.read_csv(url2)\n",
        "tienda3 = pd.read_csv(url3)\n",
        "tienda4 = pd.read_csv(url4)\n",
        "\n",
        "print(\"Tienda1:\")\n",
        "display(tienda1.head())\n",
        "print()\n",
        "print(tienda1.dtypes)\n",
        "print()\n",
        "print(tienda1.shape)\n",
        "print(\"Tienda2:\")\n",
        "display(tienda2.head())\n",
        "print()\n",
        "print(tienda2.dtypes)\n",
        "print()\n",
        "print(tienda2.shape)\n",
        "print(\"Tienda3:\")\n",
        "display(tienda3.head())\n",
        "print()\n",
        "print(tienda3.dtypes)\n",
        "print()\n",
        "print(tienda3.shape)\n",
        "print(\"Tienda4:\")\n",
        "display(tienda4.head())\n",
        "print()\n",
        "print(tienda4.dtypes)\n",
        "print()\n",
        "print(tienda4.shape)\n",
        "\n",
        "\n",
        "\n"
      ]
    },
    {
      "cell_type": "markdown",
      "source": [
        "# Cargar los datos de todas las tiendas en una sola para una vision mas general.. Otra forma de trabajarlo."
      ],
      "metadata": {
        "id": "izjB7vFKCQxk"
      }
    },
    {
      "cell_type": "code",
      "source": [
        "urls = {\n",
        "    \"Tienda 1\": \"https://raw.githubusercontent.com/alura-es-cursos/challenge1-data-science-latam/refs/heads/main/base-de-datos-challenge1-latam/tienda_1%20.csv\",\n",
        "    \"Tienda 2\": \"https://raw.githubusercontent.com/alura-es-cursos/challenge1-data-science-latam/refs/heads/main/base-de-datos-challenge1-latam/tienda_2.csv\",\n",
        "    \"Tienda 3\": \"https://raw.githubusercontent.com/alura-es-cursos/challenge1-data-science-latam/refs/heads/main/base-de-datos-challenge1-latam/tienda_3.csv\",\n",
        "    \"Tienda 4\": \"https://raw.githubusercontent.com/alura-es-cursos/challenge1-data-science-latam/refs/heads/main/base-de-datos-challenge1-latam/tienda_4.csv\",\n",
        "}\n",
        "\n",
        "tiendas = {nombre: pd.read_csv(url) for nombre, url in urls.items()}\n",
        "print(\"Tienda 1:\")\n",
        "display(tiendas[\"Tienda 1\"].head())\n",
        "print()\n",
        "print(tiendas[\"Tienda 1\"].dtypes)\n",
        "print()\n",
        "print(tiendas[\"Tienda 1\"].shape)\n",
        "print(\"Tiendas 2:\")\n",
        "display(tiendas[\"Tienda 2\"].head())\n",
        "print()\n",
        "print(tiendas[\"Tienda 2\"].dtypes)\n",
        "print()\n",
        "print(tiendas[\"Tienda 2\"].shape)\n",
        "print(\"Tiendas 3:\")\n",
        "display(tiendas[\"Tienda 3\"].head())\n",
        "print()\n",
        "print(tiendas[\"Tienda 3\"].dtypes)\n",
        "print()\n",
        "print(tiendas[\"Tienda 3\"].shape)\n",
        "print(\"Tiendas 4:\")\n",
        "display(tiendas[\"Tienda 4\"].head())\n",
        "print()\n",
        "print(tiendas[\"Tienda 4\"].dtypes)\n",
        "print()\n",
        "print(tiendas[\"Tienda 4\"].shape)\n"
      ],
      "metadata": {
        "id": "lhkd4HoDBLbW"
      },
      "execution_count": null,
      "outputs": []
    },
    {
      "cell_type": "markdown",
      "source": [
        "De la importacion de datos, podemos notar que la Tienda 4, tiene un registro menos que el resto de las tiendas. Esto se puede deber a que en el mismo periodo de tiempo, se facturo menos o tambien, se puede deber a un error en los datos suministrados. De cualquier manera, esto tiene que constar en el informe final."
      ],
      "metadata": {
        "id": "6P5PBIqQiEWN"
      }
    },
    {
      "cell_type": "code",
      "source": [
        "print(tienda1.shape)\n",
        "print(tienda2.shape)\n",
        "print(tienda3.shape)\n",
        "print(tienda4.shape)"
      ],
      "metadata": {
        "colab": {
          "base_uri": "https://localhost:8080/"
        },
        "id": "ksbXiC4Ii68x",
        "outputId": "c48fa36d-40bd-4eed-fc26-b1b32fab5b29"
      },
      "execution_count": 90,
      "outputs": [
        {
          "output_type": "stream",
          "name": "stdout",
          "text": [
            "(2359, 12)\n",
            "(2359, 12)\n",
            "(2359, 12)\n",
            "(2358, 12)\n"
          ]
        }
      ]
    },
    {
      "cell_type": "markdown",
      "metadata": {
        "id": "X62IW3KFUIYm"
      },
      "source": [
        "#1. Análisis de facturación\n",
        "\n"
      ]
    },
    {
      "cell_type": "markdown",
      "source": [],
      "metadata": {
        "id": "2oLO-WDCimLN"
      }
    },
    {
      "cell_type": "code",
      "source": [
        "total_tienda1 = tienda1['Precio'].sum()\n",
        "total_tienda2 = tienda2['Precio'].sum()\n",
        "total_tienda3 = tienda3['Precio'].sum()\n",
        "total_tienda4 = tienda4['Precio'].sum()\n",
        "print(f\"La tienda 1, facturo: {total_tienda1}$\")\n",
        "print(f\"La tienda 2, facturo: {total_tienda2}$\")\n",
        "print(f\"La tienda 3, facturo: {total_tienda3}$\")\n",
        "print(f\"La tienda 4, facturo: {total_tienda4}$\")"
      ],
      "metadata": {
        "colab": {
          "base_uri": "https://localhost:8080/"
        },
        "id": "5yZduKD40D7e",
        "outputId": "64eac545-ab92-480c-f7f4-80d86d1d31f6"
      },
      "execution_count": 91,
      "outputs": [
        {
          "output_type": "stream",
          "name": "stdout",
          "text": [
            "La tienda 1, facturo: 1150880400.0$\n",
            "La tienda 2, facturo: 1116343500.0$\n",
            "La tienda 3, facturo: 1098019600.0$\n",
            "La tienda 4, facturo: 1038375700.0$\n"
          ]
        }
      ]
    },
    {
      "cell_type": "markdown",
      "source": [
        "Me interesa saber el valor promedio facturado por articulo, para relacionarlo con el enfoque comercial de cada tienda."
      ],
      "metadata": {
        "id": "6nvPBzMtt5py"
      }
    },
    {
      "cell_type": "code",
      "source": [
        "print(f\"La tienda 1, facturo: {total_tienda1/tienda1.shape[0]}$\")\n",
        "print(f\"La tienda 2, facturo: {total_tienda2/tienda2.shape[0]}$\")\n",
        "print(f\"La tienda 3, facturo: {total_tienda3/tienda3.shape[0]}$\")\n",
        "print(f\"La tienda 4, facturo: {total_tienda4/tienda4.shape[0]}$\")\n",
        "\n"
      ],
      "metadata": {
        "colab": {
          "base_uri": "https://localhost:8080/"
        },
        "id": "Yl-KECe0uKqd",
        "outputId": "ee656413-668d-4671-9a71-f99ce1321a1f"
      },
      "execution_count": 92,
      "outputs": [
        {
          "output_type": "stream",
          "name": "stdout",
          "text": [
            "La tienda 1, facturo: 487867.9101314116$\n",
            "La tienda 2, facturo: 473227.42687579483$\n",
            "La tienda 3, facturo: 465459.7710894447$\n",
            "La tienda 4, facturo: 440362.89228159457$\n"
          ]
        }
      ]
    },
    {
      "cell_type": "markdown",
      "source": [
        "Si contabilizamos el costo de envio y se lo restamos a lo facturado (suponiendo que el envio esta dentro de la factura y el mismo, no esta generando ganacia) nos da el siguiente resultado:"
      ],
      "metadata": {
        "id": "QQhF4i6e0r-1"
      }
    },
    {
      "cell_type": "code",
      "source": [
        "print(f\"La tienda 1, le queda limpio: {total_tienda1- tienda1['Costo de envío'].sum()}$\")\n",
        "print(f\"La tienda 2, le queda limpio: {total_tienda2- tienda2['Costo de envío'].sum()}$\")\n",
        "print(f\"La tienda 3, le queda limpio: {total_tienda3- tienda3['Costo de envío'].sum()}$\")\n",
        "print(f\"La tienda 4, le queda limpio: {total_tienda4- tienda4['Costo de envío'].sum()}$\")"
      ],
      "metadata": {
        "colab": {
          "base_uri": "https://localhost:8080/"
        },
        "id": "CogjrSMc0Dzp",
        "outputId": "180c91fa-b8b2-42c0-b35f-da8ece952e14"
      },
      "execution_count": 93,
      "outputs": [
        {
          "output_type": "stream",
          "name": "stdout",
          "text": [
            "La tienda 1, le queda limpio: 1089502500.0$\n",
            "La tienda 2, le queda limpio: 1056858400.0$\n",
            "La tienda 3, le queda limpio: 1039503000.0$\n",
            "La tienda 4, le queda limpio: 983058300.0$\n"
          ]
        }
      ]
    },
    {
      "cell_type": "markdown",
      "source": [
        "Por el contrario, si el envio se factura aparte y genera una ganancia:\n"
      ],
      "metadata": {
        "id": "uB3G7pV7gter"
      }
    },
    {
      "cell_type": "code",
      "source": [
        "print(f\"La tienda 1, le queda limpio: {total_tienda1+ tienda1['Costo de envío'].sum()}$\")\n",
        "print(f\"La tienda 2, le queda limpio: {total_tienda2+ tienda2['Costo de envío'].sum()}$\")\n",
        "print(f\"La tienda 3, le queda limpio: {total_tienda3+ tienda3['Costo de envío'].sum()}$\")\n",
        "print(f\"La tienda 4, le queda limpio: {total_tienda4+ tienda4['Costo de envío'].sum()}$\")\n"
      ],
      "metadata": {
        "colab": {
          "base_uri": "https://localhost:8080/"
        },
        "id": "Eqdf_7mKg1Y1",
        "outputId": "8f2ac050-4db3-4bb0-c12f-acd0e0a07e07"
      },
      "execution_count": 94,
      "outputs": [
        {
          "output_type": "stream",
          "name": "stdout",
          "text": [
            "La tienda 1, le queda limpio: 1212258300.0$\n",
            "La tienda 2, le queda limpio: 1175828600.0$\n",
            "La tienda 3, le queda limpio: 1156536200.0$\n",
            "La tienda 4, le queda limpio: 1093693100.0$\n"
          ]
        }
      ]
    },
    {
      "cell_type": "markdown",
      "source": [
        "### Como resultado del primer análisis, podemos ver que de cualquier manera, el peor de los casos es cuanto a ganancia y facturación, es la tienda 4.\n"
      ],
      "metadata": {
        "id": "tcYdGgNwg_6_"
      }
    },
    {
      "cell_type": "markdown",
      "metadata": {
        "id": "2V_vcAPzWZmR"
      },
      "source": [
        "# 2. Ventas por categoría"
      ]
    },
    {
      "cell_type": "code",
      "execution_count": null,
      "metadata": {
        "id": "A34YupIuYhfF"
      },
      "outputs": [],
      "source": [
        "print(f\"La tienda 1, ventas por {tienda1['Categoría del Producto'].value_counts()}\")\n",
        "print()\n",
        "print(f\"La tienda 2, ventas por {tienda2['Categoría del Producto'].value_counts()}\")\n",
        "print()\n",
        "print(f\"La tienda 3, ventas por {tienda3['Categoría del Producto'].value_counts()}\")\n",
        "print()\n",
        "print(f\"La tienda 4, ventas por {tienda4['Categoría del Producto'].value_counts()}\")\n",
        "print()\n",
        "\n"
      ]
    },
    {
      "cell_type": "markdown",
      "source": [
        "Si sólo nos quedamos con lo más vandido de cada tienda:"
      ],
      "metadata": {
        "id": "-aDvuyetjklF"
      }
    },
    {
      "cell_type": "code",
      "source": [
        "categoria_mas_vendida = tienda1['Categoría del Producto'].value_counts()\n",
        "print(\"La categoria mas vendida en la tienda 1 es:\")\n",
        "display(categoria_mas_vendida.head(1))\n",
        "print(\"\")\n",
        "categoria_mas_vendida = tienda2['Categoría del Producto'].value_counts()\n",
        "print(\"La categoria mas vendida en la tienda 2 es:\")\n",
        "display(categoria_mas_vendida.head(1))\n",
        "print(\"\")\n",
        "categoria_mas_vendida = tienda3['Categoría del Producto'].value_counts()\n",
        "print(\"La categoria mas vendida en la tienda 3 es:\")\n",
        "display(categoria_mas_vendida.head(1))\n",
        "print(\"\")\n",
        "categoria_mas_vendida = tienda4['Categoría del Producto'].value_counts()\n",
        "print(\"La categoria mas vendida en la tienda 4 es:\")\n",
        "display(categoria_mas_vendida.head(1))\n",
        "print(\"\")\n"
      ],
      "metadata": {
        "id": "NWQQbmykjt_5"
      },
      "execution_count": null,
      "outputs": []
    },
    {
      "cell_type": "markdown",
      "source": [
        "## Ahora, desde una evaluacion mas general de las categorias, podriamos hacer la siguiente relacion:\n",
        "\n",
        "### Top categorías en todas las tiendas:\n",
        "\n",
        "*Muebles y Electrónicos* son consistentemente las categorías más vendidas. Esto puede deberse a alta demanda, promociones frecuentes o una mejor presentación en tienda.\n",
        "\n",
        "*Juguetes* mantiene una posición intermedia-alta, especialmente fuerte en la **Tienda 4** (338 unidades).\n",
        "\n",
        "*Electrodomésticos y Deportes y diversión* están en el medio, pero tienden a ser menos consistentes: Ej: **Tienda 3** tiene menos ventas de *Electrodomésticos* que las demás.\n",
        "\n",
        "*Libros, Instrumentos Musicales y Artículos para el hogar* , están en el fondo del ranking: Aunque hay una ligera diferencia, como en **Tienda 2** donde *Instrumentos Musicales* vendió relativamente más.\n",
        "\n",
        "### Variaciones destacables:\n",
        "\n",
        "*Instrumentos Musicales* tuvo un mejor desempeño en **Tienda 2**.\n",
        "\n",
        "*Artículos para el hogar* tuvo más ventas en la **Tienda 4** (posible enfoque o promoción local).\n",
        "\n",
        "**Tienda 3** tuvo un pico en ventas de *Muebles*."
      ],
      "metadata": {
        "id": "58lw1vsBnKOg"
      }
    },
    {
      "cell_type": "markdown",
      "metadata": {
        "id": "Rq6tU_xSY3jk"
      },
      "source": [
        "# 3. Calificación promedio de la tienda\n"
      ]
    },
    {
      "cell_type": "code",
      "execution_count": null,
      "metadata": {
        "id": "bh3jjjJwY5MU"
      },
      "outputs": [],
      "source": [
        "print(f\"La tienda 1, tienen una calificacion promedio {tienda1['Calificación'].mean()}\")\n",
        "print()\n",
        "print(f\"La tienda 2, tienen una calificacion promedio {tienda2['Calificación'].mean()}\")\n",
        "print()\n",
        "print(f\"La tienda 3, tienen una calificacion promedio {tienda3['Calificación'].mean()}\")\n",
        "print()\n",
        "print(f\"La tienda 4, tienen una calificacion promedio {tienda4['Calificación'].mean()}\")\n",
        "print()\n"
      ]
    },
    {
      "cell_type": "markdown",
      "source": [
        "# Análisis Combinado: Ventas + Satisfacción\n",
        "\n",
        "## Tienda 3 es la mejor balanceada:\n",
        "\n",
        "Tiene la calificación promedio más alta (4.05) y el segundo mayor volumen de ventas.\n",
        "\n",
        "*Esto sugiere una muy buena gestión general: procesos eficientes, atención al cliente y surtido atractivo.*\n",
        "\n",
        "## Tienda 2 también destaca:\n",
        "\n",
        "Tiene la mayor cantidad de ventas y una satisfacción elevada (4.04).\n",
        "\n",
        "Puede ser el mejor caso de éxito comercial.\n",
        "\n",
        "## Tienda 4 tiene buen volumen de ventas pero satisfacción más baja (aunque sigue siendo decente).\n",
        "\n",
        "Podría investigarse si el crecimiento en ventas está presionando la experiencia del cliente (tiempos de espera, disponibilidad, trato, etc.).\n",
        "\n",
        "## Tienda 1 tiene el menor nivel de ventas y la satisfacción más baja. **Es la más preocupante en términos de desempeño general.**\n",
        "\n",
        "Puede requerir una revisión integral: atención, logística, surtido, ambiente en tienda, o capacitación del personal."
      ],
      "metadata": {
        "id": "xPyTNQmLrue2"
      }
    },
    {
      "cell_type": "markdown",
      "source": [
        "# Resultados relacionados con la facturacion:\n",
        "\n",
        "**Tienda 1** lidera en facturación\n",
        "Aunque no tiene la mejor calificación, su precio promedio por unidad es el más alto.\n",
        "Esto sugiere que vende productos de mayor valor agregado, posiblemente más muebles o electrónicos de gama alta.\n",
        "\n",
        "*Pero cuidado: la satisfacción más baja puede indicar que los clientes no perciben un valor equivalente al precio.*\n",
        "\n",
        "**Tienda 2 y Tienda 3** tienen buen equilibrio\n",
        "Tienda 2 mantiene una buena facturación y excelente satisfacción.\n",
        "Tienda 3 tiene la mejor satisfacción y facturación razonablemente alta, con el precio promedio más competitivo.\n",
        "\n",
        "*Estas tiendas pueden estar aplicando una estrategia de valor y servicio, clave para fidelizar.*\n",
        "\n",
        "Tienda 4 vende más en unidades, pero factura menos\n",
        "Tiene el precio por unidad más bajo y menor facturación, a pesar de tener el mayor número de unidades vendidas.\n",
        "Indica posible enfoque en productos económicos o descuentos agresivos. Tiene una satisfacción decente, pero no tan destacada para justificar una estrategia de volumen puro."
      ],
      "metadata": {
        "id": "cLUM9ej-tDQM"
      }
    },
    {
      "cell_type": "markdown",
      "metadata": {
        "id": "DmNp1KPBZCm-"
      },
      "source": [
        "# 4. Productos más y menos vendidos"
      ]
    },
    {
      "cell_type": "code",
      "execution_count": null,
      "metadata": {
        "id": "qoyjqijQZHfF"
      },
      "outputs": [],
      "source": [
        "print(f\"La tienda 1, tienen como producto mas vendido: {tienda1['Producto'].value_counts().idxmax()} y menos vendido: {tienda1['Producto'].value_counts().idxmin()}\")\n",
        "print()\n",
        "print(f\"La tienda 2, tienen como producto mas vendido: {tienda2['Producto'].value_counts().idxmax()} y menos vendido: {tienda2['Producto'].value_counts().idxmin()}\")\n",
        "print()\n",
        "print(f\"La tienda 3, tienen como producto mas vendido: {tienda3['Producto'].value_counts().idxmax()} y menos vendido: {tienda3['Producto'].value_counts().idxmin()}\")\n",
        "print()\n",
        "print(f\"La tienda 4, tienen como producto mas vendido: {tienda4['Producto'].value_counts().idxmax()} y menos vendido: {tienda4['Producto'].value_counts().idxmin()}\")\n",
        "print()\n"
      ]
    },
    {
      "cell_type": "code",
      "execution_count": 98,
      "metadata": {
        "id": "0Sw3sd4IZIGW"
      },
      "outputs": [],
      "source": []
    },
    {
      "cell_type": "markdown",
      "metadata": {
        "id": "Fl0cGi3bZKqU"
      },
      "source": [
        "# 5. Envío promedio por tienda"
      ]
    },
    {
      "cell_type": "code",
      "execution_count": null,
      "metadata": {
        "id": "S2JeaCykZNy9"
      },
      "outputs": [],
      "source": [
        "print(f\"La tienda 1, tienen como costo de envio promedio: {tienda1['Costo de envío'].mean()}\")\n",
        "print()\n",
        "print(f\"La tienda 2, tienen como costo de envio promedio: {tienda2['Costo de envío'].mean()}\")\n",
        "print()\n",
        "print(f\"La tienda 3, tienen como costo de envio promedio: {tienda3['Costo de envío'].mean()}\")\n",
        "print()\n",
        "print(f\"La tienda 4, tienen como costo de envio promedio: {tienda4['Costo de envío'].mean()}\")\n",
        "print()"
      ]
    },
    {
      "cell_type": "markdown",
      "source": [
        "# Agrego la grafica pedida\n",
        "Me ayude con IA porque aun no realice los cursos relacionados al ploteo... Sinembargo me lo piden en el challenger"
      ],
      "metadata": {
        "id": "rZabRx2bCcVI"
      }
    },
    {
      "cell_type": "code",
      "execution_count": null,
      "metadata": {
        "id": "0tSdCie9ZQlt"
      },
      "outputs": [],
      "source": [
        "\n",
        "# ---------- 1. Facturación promedio por artículo ----------\n",
        "facturacion_promedio = {\n",
        "    nombre: df['Precio'].sum() / len(df)\n",
        "    for nombre, df in tiendas.items()\n",
        "}\n",
        "\n",
        "plt.figure(figsize=(8, 5))\n",
        "plt.bar(facturacion_promedio.keys(), facturacion_promedio.values(), color=['blue', 'blue', 'blue', 'red'])\n",
        "plt.title('Facturación Promedio por Artículo')\n",
        "plt.xlabel('Tienda')\n",
        "plt.ylabel('Promedio por Artículo ($)')\n",
        "plt.axhline(sum(facturacion_promedio.values())/4, color='gray', linestyle='--', label='Promedio General')\n",
        "plt.legend()\n",
        "plt.tight_layout()\n",
        "plt.show()\n",
        "\n",
        "# ---------- 2. Ganancia limpia (facturación - envío) ----------\n",
        "ganancia_neta = {\n",
        "    nombre: df['Precio'].sum() - df['Costo de envío'].sum()\n",
        "    for nombre, df in tiendas.items()\n",
        "}\n",
        "\n",
        "plt.figure(figsize=(8, 5))\n",
        "plt.bar(ganancia_neta.keys(), ganancia_neta.values(), color=['blue', 'blue', 'blue', 'red'])\n",
        "plt.title('Ganancia Neta Estimada por Tienda')\n",
        "plt.xlabel('Tienda')\n",
        "plt.ylabel('Ganancia Neta ($)')\n",
        "plt.tight_layout()\n",
        "plt.show()\n",
        "\n",
        "# ---------- 3. Comparación: Calificación promedio vs Costo de envío promedio ----------\n",
        "calificaciones = [df['Calificación'].mean() for df in tiendas.values()]\n",
        "costos_envio = [df['Costo de envío'].mean() for df in tiendas.values()]\n",
        "tienda_labels = list(tiendas.keys())\n",
        "\n",
        "plt.figure(figsize=(8, 5))\n",
        "plt.scatter(costos_envio, calificaciones, color=['blue', 'blue', 'blue', 'red'], s=100)\n",
        "\n",
        "for i, label in enumerate(tienda_labels):\n",
        "    plt.text(costos_envio[i]+200, calificaciones[i], label, fontsize=9)\n",
        "\n",
        "plt.title('Satisfacción vs Costo de Envío Promedio')\n",
        "plt.xlabel('Costo de Envío Promedio ($)')\n",
        "plt.ylabel('Calificación Promedio')\n",
        "plt.grid(True)\n",
        "plt.tight_layout()\n",
        "plt.show()"
      ]
    }
  ],
  "metadata": {
    "colab": {
      "provenance": [],
      "include_colab_link": true
    },
    "kernelspec": {
      "display_name": "Python 3",
      "name": "python3"
    },
    "language_info": {
      "codemirror_mode": {
        "name": "ipython",
        "version": 3
      },
      "file_extension": ".py",
      "mimetype": "text/x-python",
      "name": "python",
      "nbconvert_exporter": "python",
      "pygments_lexer": "ipython3",
      "version": "3.11.9"
    }
  },
  "nbformat": 4,
  "nbformat_minor": 0
}